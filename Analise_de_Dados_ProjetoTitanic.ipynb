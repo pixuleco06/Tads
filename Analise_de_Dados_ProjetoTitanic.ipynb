{
  "nbformat": 4,
  "nbformat_minor": 0,
  "metadata": {
    "colab": {
      "provenance": [],
      "authorship_tag": "ABX9TyPF9RL0kB4ttjoWpS/PjnIw",
      "include_colab_link": true
    },
    "kernelspec": {
      "name": "python3",
      "display_name": "Python 3"
    },
    "language_info": {
      "name": "python"
    }
  },
  "cells": [
    {
      "cell_type": "markdown",
      "metadata": {
        "id": "view-in-github",
        "colab_type": "text"
      },
      "source": [
        "<a href=\"https://colab.research.google.com/github/pixuleco06/Tads/blob/main/Analise_de_Dados_ProjetoTitanic.ipynb\" target=\"_parent\"><img src=\"https://colab.research.google.com/assets/colab-badge.svg\" alt=\"Open In Colab\"/></a>"
      ]
    },
    {
      "cell_type": "code",
      "execution_count": 2,
      "metadata": {
        "id": "o4dWr_95K9OZ"
      },
      "outputs": [],
      "source": [
        "import pandas as pd\n",
        "import seaborn as sns\n",
        "import numpy as np\n",
        "import matplotlib.pyplot as plt\n",
        "import sklearn.utils as shuffle"
      ]
    },
    {
      "cell_type": "code",
      "source": [
        "df = pd.read_csv('train.csv')"
      ],
      "metadata": {
        "id": "jpU8vGVaAuWB",
        "outputId": "f873474e-a682-4be6-e031-a1f978ad7529",
        "colab": {
          "base_uri": "https://localhost:8080/",
          "height": 311
        }
      },
      "execution_count": 4,
      "outputs": [
        {
          "output_type": "error",
          "ename": "FileNotFoundError",
          "evalue": "ignored",
          "traceback": [
            "\u001b[0;31m---------------------------------------------------------------------------\u001b[0m",
            "\u001b[0;31mFileNotFoundError\u001b[0m                         Traceback (most recent call last)",
            "\u001b[0;32m<ipython-input-4-cd75a77447fc>\u001b[0m in \u001b[0;36m<cell line: 1>\u001b[0;34m()\u001b[0m\n\u001b[0;32m----> 1\u001b[0;31m \u001b[0mdf\u001b[0m \u001b[0;34m=\u001b[0m \u001b[0mpd\u001b[0m\u001b[0;34m.\u001b[0m\u001b[0mread_csv\u001b[0m\u001b[0;34m(\u001b[0m\u001b[0;34m'train.csv'\u001b[0m\u001b[0;34m)\u001b[0m\u001b[0;34m\u001b[0m\u001b[0;34m\u001b[0m\u001b[0m\n\u001b[0m",
            "\u001b[0;32m/usr/local/lib/python3.10/dist-packages/pandas/util/_decorators.py\u001b[0m in \u001b[0;36mwrapper\u001b[0;34m(*args, **kwargs)\u001b[0m\n\u001b[1;32m    209\u001b[0m                 \u001b[0;32melse\u001b[0m\u001b[0;34m:\u001b[0m\u001b[0;34m\u001b[0m\u001b[0;34m\u001b[0m\u001b[0m\n\u001b[1;32m    210\u001b[0m                     \u001b[0mkwargs\u001b[0m\u001b[0;34m[\u001b[0m\u001b[0mnew_arg_name\u001b[0m\u001b[0;34m]\u001b[0m \u001b[0;34m=\u001b[0m \u001b[0mnew_arg_value\u001b[0m\u001b[0;34m\u001b[0m\u001b[0;34m\u001b[0m\u001b[0m\n\u001b[0;32m--> 211\u001b[0;31m             \u001b[0;32mreturn\u001b[0m \u001b[0mfunc\u001b[0m\u001b[0;34m(\u001b[0m\u001b[0;34m*\u001b[0m\u001b[0margs\u001b[0m\u001b[0;34m,\u001b[0m \u001b[0;34m**\u001b[0m\u001b[0mkwargs\u001b[0m\u001b[0;34m)\u001b[0m\u001b[0;34m\u001b[0m\u001b[0;34m\u001b[0m\u001b[0m\n\u001b[0m\u001b[1;32m    212\u001b[0m \u001b[0;34m\u001b[0m\u001b[0m\n\u001b[1;32m    213\u001b[0m         \u001b[0;32mreturn\u001b[0m \u001b[0mcast\u001b[0m\u001b[0;34m(\u001b[0m\u001b[0mF\u001b[0m\u001b[0;34m,\u001b[0m \u001b[0mwrapper\u001b[0m\u001b[0;34m)\u001b[0m\u001b[0;34m\u001b[0m\u001b[0;34m\u001b[0m\u001b[0m\n",
            "\u001b[0;32m/usr/local/lib/python3.10/dist-packages/pandas/util/_decorators.py\u001b[0m in \u001b[0;36mwrapper\u001b[0;34m(*args, **kwargs)\u001b[0m\n\u001b[1;32m    329\u001b[0m                     \u001b[0mstacklevel\u001b[0m\u001b[0;34m=\u001b[0m\u001b[0mfind_stack_level\u001b[0m\u001b[0;34m(\u001b[0m\u001b[0;34m)\u001b[0m\u001b[0;34m,\u001b[0m\u001b[0;34m\u001b[0m\u001b[0;34m\u001b[0m\u001b[0m\n\u001b[1;32m    330\u001b[0m                 )\n\u001b[0;32m--> 331\u001b[0;31m             \u001b[0;32mreturn\u001b[0m \u001b[0mfunc\u001b[0m\u001b[0;34m(\u001b[0m\u001b[0;34m*\u001b[0m\u001b[0margs\u001b[0m\u001b[0;34m,\u001b[0m \u001b[0;34m**\u001b[0m\u001b[0mkwargs\u001b[0m\u001b[0;34m)\u001b[0m\u001b[0;34m\u001b[0m\u001b[0;34m\u001b[0m\u001b[0m\n\u001b[0m\u001b[1;32m    332\u001b[0m \u001b[0;34m\u001b[0m\u001b[0m\n\u001b[1;32m    333\u001b[0m         \u001b[0;31m# error: \"Callable[[VarArg(Any), KwArg(Any)], Any]\" has no\u001b[0m\u001b[0;34m\u001b[0m\u001b[0;34m\u001b[0m\u001b[0m\n",
            "\u001b[0;32m/usr/local/lib/python3.10/dist-packages/pandas/io/parsers/readers.py\u001b[0m in \u001b[0;36mread_csv\u001b[0;34m(filepath_or_buffer, sep, delimiter, header, names, index_col, usecols, squeeze, prefix, mangle_dupe_cols, dtype, engine, converters, true_values, false_values, skipinitialspace, skiprows, skipfooter, nrows, na_values, keep_default_na, na_filter, verbose, skip_blank_lines, parse_dates, infer_datetime_format, keep_date_col, date_parser, dayfirst, cache_dates, iterator, chunksize, compression, thousands, decimal, lineterminator, quotechar, quoting, doublequote, escapechar, comment, encoding, encoding_errors, dialect, error_bad_lines, warn_bad_lines, on_bad_lines, delim_whitespace, low_memory, memory_map, float_precision, storage_options)\u001b[0m\n\u001b[1;32m    948\u001b[0m     \u001b[0mkwds\u001b[0m\u001b[0;34m.\u001b[0m\u001b[0mupdate\u001b[0m\u001b[0;34m(\u001b[0m\u001b[0mkwds_defaults\u001b[0m\u001b[0;34m)\u001b[0m\u001b[0;34m\u001b[0m\u001b[0;34m\u001b[0m\u001b[0m\n\u001b[1;32m    949\u001b[0m \u001b[0;34m\u001b[0m\u001b[0m\n\u001b[0;32m--> 950\u001b[0;31m     \u001b[0;32mreturn\u001b[0m \u001b[0m_read\u001b[0m\u001b[0;34m(\u001b[0m\u001b[0mfilepath_or_buffer\u001b[0m\u001b[0;34m,\u001b[0m \u001b[0mkwds\u001b[0m\u001b[0;34m)\u001b[0m\u001b[0;34m\u001b[0m\u001b[0;34m\u001b[0m\u001b[0m\n\u001b[0m\u001b[1;32m    951\u001b[0m \u001b[0;34m\u001b[0m\u001b[0m\n\u001b[1;32m    952\u001b[0m \u001b[0;34m\u001b[0m\u001b[0m\n",
            "\u001b[0;32m/usr/local/lib/python3.10/dist-packages/pandas/io/parsers/readers.py\u001b[0m in \u001b[0;36m_read\u001b[0;34m(filepath_or_buffer, kwds)\u001b[0m\n\u001b[1;32m    603\u001b[0m \u001b[0;34m\u001b[0m\u001b[0m\n\u001b[1;32m    604\u001b[0m     \u001b[0;31m# Create the parser.\u001b[0m\u001b[0;34m\u001b[0m\u001b[0;34m\u001b[0m\u001b[0m\n\u001b[0;32m--> 605\u001b[0;31m     \u001b[0mparser\u001b[0m \u001b[0;34m=\u001b[0m \u001b[0mTextFileReader\u001b[0m\u001b[0;34m(\u001b[0m\u001b[0mfilepath_or_buffer\u001b[0m\u001b[0;34m,\u001b[0m \u001b[0;34m**\u001b[0m\u001b[0mkwds\u001b[0m\u001b[0;34m)\u001b[0m\u001b[0;34m\u001b[0m\u001b[0;34m\u001b[0m\u001b[0m\n\u001b[0m\u001b[1;32m    606\u001b[0m \u001b[0;34m\u001b[0m\u001b[0m\n\u001b[1;32m    607\u001b[0m     \u001b[0;32mif\u001b[0m \u001b[0mchunksize\u001b[0m \u001b[0;32mor\u001b[0m \u001b[0miterator\u001b[0m\u001b[0;34m:\u001b[0m\u001b[0;34m\u001b[0m\u001b[0;34m\u001b[0m\u001b[0m\n",
            "\u001b[0;32m/usr/local/lib/python3.10/dist-packages/pandas/io/parsers/readers.py\u001b[0m in \u001b[0;36m__init__\u001b[0;34m(self, f, engine, **kwds)\u001b[0m\n\u001b[1;32m   1440\u001b[0m \u001b[0;34m\u001b[0m\u001b[0m\n\u001b[1;32m   1441\u001b[0m         \u001b[0mself\u001b[0m\u001b[0;34m.\u001b[0m\u001b[0mhandles\u001b[0m\u001b[0;34m:\u001b[0m \u001b[0mIOHandles\u001b[0m \u001b[0;34m|\u001b[0m \u001b[0;32mNone\u001b[0m \u001b[0;34m=\u001b[0m \u001b[0;32mNone\u001b[0m\u001b[0;34m\u001b[0m\u001b[0;34m\u001b[0m\u001b[0m\n\u001b[0;32m-> 1442\u001b[0;31m         \u001b[0mself\u001b[0m\u001b[0;34m.\u001b[0m\u001b[0m_engine\u001b[0m \u001b[0;34m=\u001b[0m \u001b[0mself\u001b[0m\u001b[0;34m.\u001b[0m\u001b[0m_make_engine\u001b[0m\u001b[0;34m(\u001b[0m\u001b[0mf\u001b[0m\u001b[0;34m,\u001b[0m \u001b[0mself\u001b[0m\u001b[0;34m.\u001b[0m\u001b[0mengine\u001b[0m\u001b[0;34m)\u001b[0m\u001b[0;34m\u001b[0m\u001b[0;34m\u001b[0m\u001b[0m\n\u001b[0m\u001b[1;32m   1443\u001b[0m \u001b[0;34m\u001b[0m\u001b[0m\n\u001b[1;32m   1444\u001b[0m     \u001b[0;32mdef\u001b[0m \u001b[0mclose\u001b[0m\u001b[0;34m(\u001b[0m\u001b[0mself\u001b[0m\u001b[0;34m)\u001b[0m \u001b[0;34m->\u001b[0m \u001b[0;32mNone\u001b[0m\u001b[0;34m:\u001b[0m\u001b[0;34m\u001b[0m\u001b[0;34m\u001b[0m\u001b[0m\n",
            "\u001b[0;32m/usr/local/lib/python3.10/dist-packages/pandas/io/parsers/readers.py\u001b[0m in \u001b[0;36m_make_engine\u001b[0;34m(self, f, engine)\u001b[0m\n\u001b[1;32m   1733\u001b[0m                 \u001b[0;32mif\u001b[0m \u001b[0;34m\"b\"\u001b[0m \u001b[0;32mnot\u001b[0m \u001b[0;32min\u001b[0m \u001b[0mmode\u001b[0m\u001b[0;34m:\u001b[0m\u001b[0;34m\u001b[0m\u001b[0;34m\u001b[0m\u001b[0m\n\u001b[1;32m   1734\u001b[0m                     \u001b[0mmode\u001b[0m \u001b[0;34m+=\u001b[0m \u001b[0;34m\"b\"\u001b[0m\u001b[0;34m\u001b[0m\u001b[0;34m\u001b[0m\u001b[0m\n\u001b[0;32m-> 1735\u001b[0;31m             self.handles = get_handle(\n\u001b[0m\u001b[1;32m   1736\u001b[0m                 \u001b[0mf\u001b[0m\u001b[0;34m,\u001b[0m\u001b[0;34m\u001b[0m\u001b[0;34m\u001b[0m\u001b[0m\n\u001b[1;32m   1737\u001b[0m                 \u001b[0mmode\u001b[0m\u001b[0;34m,\u001b[0m\u001b[0;34m\u001b[0m\u001b[0;34m\u001b[0m\u001b[0m\n",
            "\u001b[0;32m/usr/local/lib/python3.10/dist-packages/pandas/io/common.py\u001b[0m in \u001b[0;36mget_handle\u001b[0;34m(path_or_buf, mode, encoding, compression, memory_map, is_text, errors, storage_options)\u001b[0m\n\u001b[1;32m    854\u001b[0m         \u001b[0;32mif\u001b[0m \u001b[0mioargs\u001b[0m\u001b[0;34m.\u001b[0m\u001b[0mencoding\u001b[0m \u001b[0;32mand\u001b[0m \u001b[0;34m\"b\"\u001b[0m \u001b[0;32mnot\u001b[0m \u001b[0;32min\u001b[0m \u001b[0mioargs\u001b[0m\u001b[0;34m.\u001b[0m\u001b[0mmode\u001b[0m\u001b[0;34m:\u001b[0m\u001b[0;34m\u001b[0m\u001b[0;34m\u001b[0m\u001b[0m\n\u001b[1;32m    855\u001b[0m             \u001b[0;31m# Encoding\u001b[0m\u001b[0;34m\u001b[0m\u001b[0;34m\u001b[0m\u001b[0m\n\u001b[0;32m--> 856\u001b[0;31m             handle = open(\n\u001b[0m\u001b[1;32m    857\u001b[0m                 \u001b[0mhandle\u001b[0m\u001b[0;34m,\u001b[0m\u001b[0;34m\u001b[0m\u001b[0;34m\u001b[0m\u001b[0m\n\u001b[1;32m    858\u001b[0m                 \u001b[0mioargs\u001b[0m\u001b[0;34m.\u001b[0m\u001b[0mmode\u001b[0m\u001b[0;34m,\u001b[0m\u001b[0;34m\u001b[0m\u001b[0;34m\u001b[0m\u001b[0m\n",
            "\u001b[0;31mFileNotFoundError\u001b[0m: [Errno 2] No such file or directory: 'train.csv'"
          ]
        }
      ]
    },
    {
      "cell_type": "code",
      "source": [
        "train = pd.read_csv('train.csv')\n",
        "test = pd.read_csv('test.csv')"
      ],
      "metadata": {
        "id": "agZd9FsW6_6q"
      },
      "execution_count": null,
      "outputs": []
    },
    {
      "cell_type": "code",
      "source": [
        "train.head()"
      ],
      "metadata": {
        "id": "bVa1L0cb8Y5w"
      },
      "execution_count": null,
      "outputs": []
    },
    {
      "cell_type": "markdown",
      "source": [
        "Análise Exploratória e Visualização de Dados:\n",
        "\n",
        "1. Explore a distribuição de características-chave, como idade, sexo, classe socioeconômica e taxa de sobrevivência.\n",
        "R: Com base nos primeiros itens, encontrados no head, podemos dizer que a maior parte dos indivíduos que foram a óbito eram homens, que estavam em classes inferiores, como a 3ª classe por exemplo. Provavelmente eram trabalhadores e podemos afirmar isso também por serem pessoas mais jovens que estavam a trabalho provavelmente, na faixa etária de 20-25 anos.\n",
        "2. Identifique padrões ou correlações entre as características e a sobrevivência dos passageiros.\n",
        "R: Mulheres, de classe nobre (exceto uma), idade entre 20-40 anos.\n",
        "3. Visualize esses padrões por meio de gráficos de barras, histogramas, gráficos de dispersão ou boxplots.\n",
        "4. Investigue se existem diferenças na taxa de sobrevivência entre grupos, como homens e mulheres, ou diferentes classes de passageiros.\n",
        "Uma diferença notável é o fato de grande parte/maioria dos que não conseguiram se salvar, era homens e da terceira classe. Grande parte que se salvou eram mulheres e de classes mais privilegiadas."
      ],
      "metadata": {
        "id": "TvePT-9_8tWn"
      }
    },
    {
      "cell_type": "code",
      "source": [
        "#2\n",
        "sns.boxplot(x='Pclass', y='Age', hue='Survived', data=df)\n",
        "plt.xlabel('Classe Socioeconômica')\n",
        "plt.ylabel('Idade')\n",
        "plt.title('Relação entre Classe Socioeconômica, Idade e Sobrevivência')\n",
        "plt.legend(title='Sobreviveu', loc='upper right')\n",
        "plt.show()"
      ],
      "metadata": {
        "id": "yf6M_j0uFRRM"
      },
      "execution_count": null,
      "outputs": []
    },
    {
      "cell_type": "code",
      "source": [
        "#3\n",
        "df_10_primeiros = df.head(10)\n",
        "sns.lineplot(data = df_10_primeiros)"
      ],
      "metadata": {
        "id": "f9wqATzd-Y_o"
      },
      "execution_count": null,
      "outputs": []
    },
    {
      "cell_type": "code",
      "source": [
        "#4\n",
        "sns.lineplot(data = 'train')"
      ],
      "metadata": {
        "id": "qbiTGSXI-AIQ"
      },
      "execution_count": null,
      "outputs": []
    },
    {
      "cell_type": "code",
      "source": [
        "#Medidas de Tendência Central e Medidas de Dispersão:\n",
        "#1\n",
        "# Calcular a média de idade de todos os passageiros\n",
        "mean_age = data['Age'].mean()\n",
        "print(\"Média de idade de todos os passageiros:\", mean_age)\n",
        "\n",
        "# Separar os dados em grupos de sobreviventes e não sobreviventes\n",
        "survived_data = data[data['Survived'] == 1]\n",
        "not_survived_data = data[data['Survived'] == 0]\n",
        "\n",
        "# Calcular a média de idade dos sobreviventes\n",
        "mean_age_survived = survived_data['Age'].mean()\n",
        "print(\"Média de idade dos sobreviventes:\", mean_age_survived)\n",
        "\n",
        "# Calcular a média de idade dos não sobreviventes\n",
        "mean_age_not_survived = not_survived_data['Age'].mean()\n",
        "print(\"Média de idade dos não sobreviventes:\", mean_age_not_survived)\n",
        "\n",
        "# Visualizar as diferenças de idade entre sobreviventes e não sobreviventes usando Seaborn\n",
        "sns.boxplot(x='Survived', y='Age', data=data)"
      ],
      "metadata": {
        "id": "DvhGoY6HrWgM"
      },
      "execution_count": null,
      "outputs": []
    },
    {
      "cell_type": "code",
      "source": [
        "#2\n",
        "sobreviventes = data[data['Survived'] == 1]\n",
        "nao_sobreviventes = data[data['Survived'] == 0]\n",
        "variacao_tarifa_sobreviventes = sobreviventes['Fare'].max() - sobreviventes['Fare'].min()\n",
        "print(\"Variação da tarifa para sobreviventes:\", variacao_tarifa_sobreviventes)\n",
        "variacao_tarifa_nao_sobreviventes = nao_sobreviventes['Fare'].max() - nao_sobreviventes['Fare'].min()\n",
        "print(\"Variação da tarifa para não sobreviventes:\", variacao_tarifa_nao_sobreviventes)"
      ],
      "metadata": {
        "id": "JPiD0453rxQk"
      },
      "execution_count": null,
      "outputs": []
    },
    {
      "cell_type": "code",
      "source": [
        "#3-\n",
        "# Calcular a porcentagem de sobreviventes em cada classe socioeconômica\n",
        "sobreviventes_por_classe = data.groupby('Pclass')['Survived'].sum()\n",
        "total_por_classe = data['Pclass'].value_counts()\n",
        "porcentagem_sobreviventes = (sobreviventes_por_classe / total_por_classe) * 100\n",
        "print(\"Porcentagem de sobreviventes por classe socioeconômica:\")\n",
        "print(porcentagem_sobreviventes)"
      ],
      "metadata": {
        "id": "c_OJpv2qryJg"
      },
      "execution_count": null,
      "outputs": []
    },
    {
      "cell_type": "code",
      "source": [
        "#Amostragem e Probabilidade:\n",
        "#1\n",
        "from sklearn.model_selection import train_test_split\n",
        "X = data[['Age', 'Fare']]\n",
        "y = data['Survived']\n",
        "X_train, X_test, y_train, y_test = train_test_split(X, y, test_size=0.2, random_state=42)"
      ],
      "metadata": {
        "id": "Pxd2vP-Yrz_X"
      },
      "execution_count": null,
      "outputs": []
    },
    {
      "cell_type": "code",
      "source": [
        "#2\n",
        "probabilidade_genero = data.groupby('Sex')['Survived'].mean()\n",
        "print(probabilidade_genero)"
      ],
      "metadata": {
        "id": "f8WDkME-r2hC"
      },
      "execution_count": null,
      "outputs": []
    },
    {
      "cell_type": "code",
      "source": [
        "from sklearn.ensemble import RandomForestClassifier\n",
        "from sklearn.model_selection import train_test_split\n",
        "from sklearn.model_selection import RepeatedKFold"
      ],
      "metadata": {
        "id": "zKQPnHUo83_6"
      },
      "execution_count": null,
      "outputs": []
    },
    {
      "cell_type": "code",
      "source": [
        "modelo = RandomForestClassifier(n_estimators=100, n_jobs=-1, random_state=0)"
      ],
      "metadata": {
        "id": "_tarotiHDjAs"
      },
      "execution_count": null,
      "outputs": []
    },
    {
      "cell_type": "code",
      "source": [
        "x_falso = np.arange(10)\n",
        "x_falso"
      ],
      "metadata": {
        "id": "S9IjismRPmI6"
      },
      "execution_count": null,
      "outputs": []
    },
    {
      "cell_type": "code",
      "source": [
        "np.random.seed(0)\n",
        "train_test_split(x_falso, test_size=0.5)"
      ],
      "metadata": {
        "id": "JuOSynWrP5FN"
      },
      "execution_count": null,
      "outputs": []
    },
    {
      "cell_type": "code",
      "source": [
        "np.random.seed(1)\n",
        "X_treino, X_valid, y_treino, y_valid = train_test_split(X,y, test_size=0.5)"
      ],
      "metadata": {
        "id": "1e02fNxgGhlV"
      },
      "execution_count": null,
      "outputs": []
    },
    {
      "cell_type": "code",
      "source": [
        "X_treino.head()"
      ],
      "metadata": {
        "id": "bv0fFGiBHJnT"
      },
      "execution_count": null,
      "outputs": []
    },
    {
      "cell_type": "code",
      "source": [
        "X_treino.shape, X_valid.shape, y_treino.shape, y_valid.shape"
      ],
      "metadata": {
        "id": "0Xh_UiZqHOgG"
      },
      "execution_count": null,
      "outputs": []
    },
    {
      "cell_type": "code",
      "source": [
        "modelo = RandomForestClassifier(n_estimators=100, n_jobs=-1, random_state=0)\n",
        "modelo.fit(X_treino, y_treino)"
      ],
      "metadata": {
        "id": "TILryVC0Hk5p"
      },
      "execution_count": null,
      "outputs": []
    },
    {
      "cell_type": "code",
      "source": [
        "p = modelo.predict(X_valid)"
      ],
      "metadata": {
        "id": "INl9X002H1GA"
      },
      "execution_count": null,
      "outputs": []
    },
    {
      "cell_type": "code",
      "source": [
        "np.mean(y_valid == p)"
      ],
      "metadata": {
        "id": "l_o1pFtTH5t6"
      },
      "execution_count": null,
      "outputs": []
    },
    {
      "cell_type": "code",
      "source": [
        "p = (X_valid ['Sex_binario'] == 1).astype(np.int64)\n",
        "np.mean(y_valid == p)"
      ],
      "metadata": {
        "id": "HmEJlHNyIInM"
      },
      "execution_count": null,
      "outputs": []
    },
    {
      "cell_type": "code",
      "source": [
        "x_falso"
      ],
      "metadata": {
        "id": "R1xltvX_KdLZ"
      },
      "execution_count": null,
      "outputs": []
    },
    {
      "cell_type": "code",
      "source": [
        "from sklearn.model_selection import KFold"
      ],
      "metadata": {
        "id": "YjL6TpYhKtrN"
      },
      "execution_count": null,
      "outputs": []
    },
    {
      "cell_type": "code",
      "source": [
        "kf = KFold(3, shuffle=True, random_state=0)\n",
        "for linhas_treino, linhas_valid in kf.split(x_falso):\n",
        "  print(\"treino: \", linhas_treino )\n",
        "  print(\"valid: \",linhas_valid)\n",
        "  print()"
      ],
      "metadata": {
        "id": "tueiiA_wK5WU"
      },
      "execution_count": null,
      "outputs": []
    },
    {
      "cell_type": "code",
      "source": [
        "from sklearn.utils import shuffle\n",
        "\n",
        "resultados = []\n",
        "kf = RepeatedKFold(n_splits=2, n_repeats=10, random_state=10)\n",
        "\n",
        "for linhas_treino, linhas_valid in kf.split(X):\n",
        "    print(\"treino: \", linhas_treino.shape[0])\n",
        "    print(\"valid: \", linhas_valid.shape[0])\n",
        "\n",
        "    X_treino, X_valid = X.iloc[linhas_treino], X.iloc[linhas_valid]\n",
        "    y_treino, y_valid = y.iloc[linhas_treino], y.iloc[linhas_valid]\n",
        "\n",
        "    X_treino, y_treino = shuffle(X_treino, y_treino, random_state=10)  # Embaralhar os dados de treinamento\n",
        "\n",
        "    modelo = RandomForestClassifier(n_estimators=100, n_jobs=-1, random_state=0)\n",
        "    modelo.fit(X_treino, y_treino)\n",
        "\n",
        "    p = modelo.predict(X_valid)\n",
        "\n",
        "    acc = np.mean(y_valid == p)\n",
        "    resultados.append(acc)\n",
        "    print(\"Acc:\", acc)\n",
        "    print()\n"
      ],
      "metadata": {
        "id": "kH1su5owrGl4"
      },
      "execution_count": null,
      "outputs": []
    },
    {
      "cell_type": "code",
      "source": [
        "from ast import increment_lineno\n",
        "%matpltlib increment_lineno\n",
        "%pylab increment_lineno"
      ],
      "metadata": {
        "id": "Mt9EoZcnP3eH"
      },
      "execution_count": null,
      "outputs": []
    },
    {
      "cell_type": "code",
      "source": [
        "import matplotlib.pyplot as plt\n",
        "\n",
        "plt.hist(resultados)"
      ],
      "metadata": {
        "id": "vfCFmQ-OQEGJ"
      },
      "execution_count": null,
      "outputs": []
    },
    {
      "cell_type": "code",
      "source": [
        "resultados"
      ],
      "metadata": {
        "id": "eSbF6cmlw3Zc"
      },
      "execution_count": null,
      "outputs": []
    },
    {
      "cell_type": "code",
      "source": [
        "np.mean(resultados)"
      ],
      "metadata": {
        "id": "_ItlAFB2suwc"
      },
      "execution_count": null,
      "outputs": []
    },
    {
      "cell_type": "code",
      "source": [
        "p = (X_valid ['Sex_binario'] == 1).astype(np.int64)\n",
        "np.mean(y_valid==p)"
      ],
      "metadata": {
        "id": "J5IgwLqjW5ab"
      },
      "execution_count": null,
      "outputs": []
    },
    {
      "cell_type": "code",
      "source": [
        "variaveis = ['Sex_binario','Age']"
      ],
      "metadata": {
        "id": "2U8j_Z9M9P2b"
      },
      "execution_count": null,
      "outputs": []
    },
    {
      "cell_type": "code",
      "source": [
        "def transformar_sexo(valor):\n",
        "  if valor == 'female':\n",
        "    return 1\n",
        "  else:\n",
        "    return 0\n",
        "\n",
        "train['Sex_binario'] = train['Sex'].map(transformar_sexo)\n",
        "test['Sex_binario'] = test['Sex'].map(transformar_sexo)"
      ],
      "metadata": {
        "id": "NHoJqyqoDHPy"
      },
      "execution_count": null,
      "outputs": []
    },
    {
      "cell_type": "code",
      "source": [
        "train.head()"
      ],
      "metadata": {
        "id": "QuPFFs_SEcCY"
      },
      "execution_count": null,
      "outputs": []
    },
    {
      "cell_type": "code",
      "source": [
        "variaveis = ['Sex_binario','Age']"
      ],
      "metadata": {
        "id": "i3twyidtEg-x"
      },
      "execution_count": null,
      "outputs": []
    },
    {
      "cell_type": "code",
      "source": [
        "X = train[variaveis]\n",
        "y = train['Survived']"
      ],
      "metadata": {
        "id": "SDAZNQg6EjuE"
      },
      "execution_count": null,
      "outputs": []
    },
    {
      "cell_type": "code",
      "source": [
        "X.head()"
      ],
      "metadata": {
        "id": "HVEzC4cDEsQx"
      },
      "execution_count": null,
      "outputs": []
    },
    {
      "cell_type": "code",
      "source": [
        "y.head()"
      ],
      "metadata": {
        "id": "PNzjVW2LEwxv"
      },
      "execution_count": null,
      "outputs": []
    },
    {
      "cell_type": "code",
      "source": [
        "X = X.fillna(-1)"
      ],
      "metadata": {
        "id": "SSOyIWtaE0ak"
      },
      "execution_count": null,
      "outputs": []
    },
    {
      "cell_type": "code",
      "source": [
        "modelo.fit(X,y)"
      ],
      "metadata": {
        "id": "a71OyXe3FJxg"
      },
      "execution_count": null,
      "outputs": []
    },
    {
      "cell_type": "code",
      "source": [
        "test['Sex_binario'] = test ['Sex'].map(transformar_sexo)"
      ],
      "metadata": {
        "id": "GOnhJnhkFOqi"
      },
      "execution_count": null,
      "outputs": []
    },
    {
      "cell_type": "code",
      "source": [
        "X_prev = test[variaveis]\n",
        "X_prev = X_prev.fillna(-1)\n",
        "X_prev.head()"
      ],
      "metadata": {
        "id": "ukYhRDl2Fjo9"
      },
      "execution_count": null,
      "outputs": []
    },
    {
      "cell_type": "code",
      "source": [
        "p = modelo.predict(X_prev)\n",
        "p"
      ],
      "metadata": {
        "id": "J53nB7ImFthD"
      },
      "execution_count": null,
      "outputs": []
    },
    {
      "cell_type": "code",
      "source": [
        "test.head()"
      ],
      "metadata": {
        "id": "lez5PbEeGC8k"
      },
      "execution_count": null,
      "outputs": []
    },
    {
      "cell_type": "code",
      "source": [
        "sub = pd.Series(p, index=test['PassengerId'])\n",
        "sub.shape"
      ],
      "metadata": {
        "id": "sPmaLmO3E5Lb"
      },
      "execution_count": null,
      "outputs": []
    },
    {
      "cell_type": "code",
      "source": [
        "sub = pd.Series(p, index=test ['PassengerId'], name = 'Survived')\n",
        "sub.shape"
      ],
      "metadata": {
        "id": "rW-P-5WJGJfX"
      },
      "execution_count": null,
      "outputs": []
    },
    {
      "cell_type": "code",
      "source": [
        "variaveis = ['Sex_binario', 'Age', 'Pclass', 'SibSp','Parch','Fare']"
      ],
      "metadata": {
        "id": "cw-WNdzUQ3lJ"
      },
      "execution_count": null,
      "outputs": []
    },
    {
      "cell_type": "code",
      "source": [
        "X = train[variaveis].fillna(-1)\n",
        "y = train['Survived']"
      ],
      "metadata": {
        "id": "zs2gjaq0RL7y"
      },
      "execution_count": null,
      "outputs": []
    },
    {
      "cell_type": "code",
      "source": [
        "from sklearn.utils import shuffle\n",
        "\n",
        "resultados = []\n",
        "kf = RepeatedKFold(n_splits=2, n_repeats=10, random_state=10)\n",
        "\n",
        "for linhas_treino, linhas_valid in kf.split(X):\n",
        "    print(\"treino: \", linhas_treino.shape[0])\n",
        "    print(\"valid: \", linhas_valid.shape[0])\n",
        "\n",
        "    X_treino, X_valid = X.iloc[linhas_treino], X.iloc[linhas_valid]\n",
        "    y_treino, y_valid = y.iloc[linhas_treino], y.iloc[linhas_valid]\n",
        "\n",
        "    X_treino, y_treino = shuffle(X_treino, y_treino, random_state=10)  # Embaralhar os dados de treinamento\n",
        "\n",
        "    modelo = RandomForestClassifier(n_estimators=100, n_jobs=-1, random_state=0)\n",
        "    modelo.fit(X_treino, y_treino)\n",
        "\n",
        "    p = modelo.predict(X_valid)\n",
        "\n",
        "    acc = np.mean(y_valid == p)\n",
        "    resultados.append(acc)\n",
        "    print(\"Acc:\", acc)\n",
        "    print()\n"
      ],
      "metadata": {
        "id": "qiaMXuInRUPf"
      },
      "execution_count": null,
      "outputs": []
    },
    {
      "cell_type": "code",
      "source": [
        "import matplotlib.pyplot as plt\n",
        "\n",
        "plt.hist(resultados)"
      ],
      "metadata": {
        "id": "jnRamxvcRiVz"
      },
      "execution_count": null,
      "outputs": []
    },
    {
      "cell_type": "code",
      "source": [
        "np.mean(resultados)"
      ],
      "metadata": {
        "id": "eTdKQRxAR379"
      },
      "execution_count": null,
      "outputs": []
    },
    {
      "cell_type": "code",
      "source": [
        "X.head()"
      ],
      "metadata": {
        "id": "4w-7NRmqUP9P"
      },
      "execution_count": null,
      "outputs": []
    },
    {
      "cell_type": "code",
      "source": [
        "y.head()"
      ],
      "metadata": {
        "id": "abnDpGQjUSMM"
      },
      "execution_count": null,
      "outputs": []
    },
    {
      "cell_type": "code",
      "source": [
        "test[variaveis].head()"
      ],
      "metadata": {
        "id": "DHH42oVxUUVI"
      },
      "execution_count": null,
      "outputs": []
    },
    {
      "cell_type": "code",
      "source": [
        "modelo = RandomForestClassifier(n_estimators=100, n_jobs=-1, random_state=0)\n",
        "modelo.fit(X,y)\n",
        "\n",
        "p = modelo.predict(test[variaveis].fillna(-1))"
      ],
      "metadata": {
        "id": "XcQJ-dp7UZGO"
      },
      "execution_count": null,
      "outputs": []
    },
    {
      "cell_type": "code",
      "source": [
        "p"
      ],
      "metadata": {
        "id": "vsg4l01pUq6z"
      },
      "execution_count": null,
      "outputs": []
    },
    {
      "cell_type": "code",
      "source": [
        "!head -n10 modelo_video5.csv"
      ],
      "metadata": {
        "id": "rcECnfSPU3Tv"
      },
      "execution_count": null,
      "outputs": []
    }
  ]
}